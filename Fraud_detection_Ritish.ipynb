{
 "cells": [
  {
   "cell_type": "code",
   "execution_count": 1,
   "id": "ff1439f6",
   "metadata": {},
   "outputs": [],
   "source": [
    "import numpy as np # linear algebra\n",
    "import pandas as pd # data processing\n",
    "from sklearn.model_selection import train_test_split\n",
    "from sklearn.preprocessing import StandardScaler\n",
    "from sklearn.decomposition import PCA\n",
    "from sklearn.metrics import classification_report, confusion_matrix, roc_auc_score"
   ]
  },
  {
   "cell_type": "code",
   "execution_count": 2,
   "id": "64fc2a22",
   "metadata": {},
   "outputs": [],
   "source": [
    "df = pd.read_csv('Fraud.csv') # read the csv file"
   ]
  },
  {
   "cell_type": "code",
   "execution_count": 3,
   "id": "629cea2b",
   "metadata": {},
   "outputs": [
    {
     "data": {
      "text/html": [
       "<div>\n",
       "<style scoped>\n",
       "    .dataframe tbody tr th:only-of-type {\n",
       "        vertical-align: middle;\n",
       "    }\n",
       "\n",
       "    .dataframe tbody tr th {\n",
       "        vertical-align: top;\n",
       "    }\n",
       "\n",
       "    .dataframe thead th {\n",
       "        text-align: right;\n",
       "    }\n",
       "</style>\n",
       "<table border=\"1\" class=\"dataframe\">\n",
       "  <thead>\n",
       "    <tr style=\"text-align: right;\">\n",
       "      <th></th>\n",
       "      <th>step</th>\n",
       "      <th>type</th>\n",
       "      <th>amount</th>\n",
       "      <th>nameOrig</th>\n",
       "      <th>oldbalanceOrg</th>\n",
       "      <th>newbalanceOrig</th>\n",
       "      <th>nameDest</th>\n",
       "      <th>oldbalanceDest</th>\n",
       "      <th>newbalanceDest</th>\n",
       "      <th>isFraud</th>\n",
       "      <th>isFlaggedFraud</th>\n",
       "    </tr>\n",
       "  </thead>\n",
       "  <tbody>\n",
       "    <tr>\n",
       "      <th>0</th>\n",
       "      <td>1</td>\n",
       "      <td>PAYMENT</td>\n",
       "      <td>9839.64</td>\n",
       "      <td>C1231006815</td>\n",
       "      <td>170136.0</td>\n",
       "      <td>160296.36</td>\n",
       "      <td>M1979787155</td>\n",
       "      <td>0.0</td>\n",
       "      <td>0.0</td>\n",
       "      <td>0</td>\n",
       "      <td>0</td>\n",
       "    </tr>\n",
       "    <tr>\n",
       "      <th>1</th>\n",
       "      <td>1</td>\n",
       "      <td>PAYMENT</td>\n",
       "      <td>1864.28</td>\n",
       "      <td>C1666544295</td>\n",
       "      <td>21249.0</td>\n",
       "      <td>19384.72</td>\n",
       "      <td>M2044282225</td>\n",
       "      <td>0.0</td>\n",
       "      <td>0.0</td>\n",
       "      <td>0</td>\n",
       "      <td>0</td>\n",
       "    </tr>\n",
       "    <tr>\n",
       "      <th>2</th>\n",
       "      <td>1</td>\n",
       "      <td>TRANSFER</td>\n",
       "      <td>181.00</td>\n",
       "      <td>C1305486145</td>\n",
       "      <td>181.0</td>\n",
       "      <td>0.00</td>\n",
       "      <td>C553264065</td>\n",
       "      <td>0.0</td>\n",
       "      <td>0.0</td>\n",
       "      <td>1</td>\n",
       "      <td>0</td>\n",
       "    </tr>\n",
       "    <tr>\n",
       "      <th>3</th>\n",
       "      <td>1</td>\n",
       "      <td>CASH_OUT</td>\n",
       "      <td>181.00</td>\n",
       "      <td>C840083671</td>\n",
       "      <td>181.0</td>\n",
       "      <td>0.00</td>\n",
       "      <td>C38997010</td>\n",
       "      <td>21182.0</td>\n",
       "      <td>0.0</td>\n",
       "      <td>1</td>\n",
       "      <td>0</td>\n",
       "    </tr>\n",
       "    <tr>\n",
       "      <th>4</th>\n",
       "      <td>1</td>\n",
       "      <td>PAYMENT</td>\n",
       "      <td>11668.14</td>\n",
       "      <td>C2048537720</td>\n",
       "      <td>41554.0</td>\n",
       "      <td>29885.86</td>\n",
       "      <td>M1230701703</td>\n",
       "      <td>0.0</td>\n",
       "      <td>0.0</td>\n",
       "      <td>0</td>\n",
       "      <td>0</td>\n",
       "    </tr>\n",
       "  </tbody>\n",
       "</table>\n",
       "</div>"
      ],
      "text/plain": [
       "   step      type    amount     nameOrig  oldbalanceOrg  newbalanceOrig  \\\n",
       "0     1   PAYMENT   9839.64  C1231006815       170136.0       160296.36   \n",
       "1     1   PAYMENT   1864.28  C1666544295        21249.0        19384.72   \n",
       "2     1  TRANSFER    181.00  C1305486145          181.0            0.00   \n",
       "3     1  CASH_OUT    181.00   C840083671          181.0            0.00   \n",
       "4     1   PAYMENT  11668.14  C2048537720        41554.0        29885.86   \n",
       "\n",
       "      nameDest  oldbalanceDest  newbalanceDest  isFraud  isFlaggedFraud  \n",
       "0  M1979787155             0.0             0.0        0               0  \n",
       "1  M2044282225             0.0             0.0        0               0  \n",
       "2   C553264065             0.0             0.0        1               0  \n",
       "3    C38997010         21182.0             0.0        1               0  \n",
       "4  M1230701703             0.0             0.0        0               0  "
      ]
     },
     "execution_count": 3,
     "metadata": {},
     "output_type": "execute_result"
    }
   ],
   "source": [
    "df.head(5)"
   ]
  },
  {
   "cell_type": "code",
   "execution_count": 4,
   "id": "d7555486",
   "metadata": {},
   "outputs": [
    {
     "data": {
      "text/plain": [
       "(6362620, 11)"
      ]
     },
     "execution_count": 4,
     "metadata": {},
     "output_type": "execute_result"
    }
   ],
   "source": [
    "df.shape"
   ]
  },
  {
   "cell_type": "markdown",
   "id": "472236b8",
   "metadata": {},
   "source": [
    "# Handling Missing Values"
   ]
  },
  {
   "cell_type": "code",
   "execution_count": 5,
   "id": "928e280d",
   "metadata": {},
   "outputs": [
    {
     "data": {
      "text/plain": [
       "step              0\n",
       "type              0\n",
       "amount            0\n",
       "nameOrig          0\n",
       "oldbalanceOrg     0\n",
       "newbalanceOrig    0\n",
       "nameDest          0\n",
       "oldbalanceDest    0\n",
       "newbalanceDest    0\n",
       "isFraud           0\n",
       "isFlaggedFraud    0\n",
       "dtype: int64"
      ]
     },
     "execution_count": 5,
     "metadata": {},
     "output_type": "execute_result"
    }
   ],
   "source": [
    "df.isnull().sum() # Given dataset has no null values"
   ]
  },
  {
   "cell_type": "code",
   "execution_count": 6,
   "id": "ef912826",
   "metadata": {},
   "outputs": [
    {
     "data": {
      "text/plain": [
       "0"
      ]
     },
     "execution_count": 6,
     "metadata": {},
     "output_type": "execute_result"
    }
   ],
   "source": [
    "# Check for duplicate values\n",
    "df.duplicated().sum() # no duplicate values"
   ]
  },
  {
   "cell_type": "markdown",
   "id": "25599d90",
   "metadata": {},
   "source": [
    "# Handling Outliers"
   ]
  },
  {
   "cell_type": "code",
   "execution_count": 7,
   "id": "629b068d",
   "metadata": {},
   "outputs": [],
   "source": [
    "# assuming 'amount' is an important feature\n",
    "from sklearn.covariance import EllipticEnvelope\n",
    "envelope = EllipticEnvelope(contamination=0.01) \n",
    "outliers = envelope.fit_predict(df[['amount']])\n",
    "df = df[outliers != -1]"
   ]
  },
  {
   "cell_type": "code",
   "execution_count": 8,
   "id": "b63fcb67",
   "metadata": {},
   "outputs": [
    {
     "data": {
      "text/plain": [
       "(6298993, 11)"
      ]
     },
     "execution_count": 8,
     "metadata": {},
     "output_type": "execute_result"
    }
   ],
   "source": [
    "df.shape"
   ]
  },
  {
   "cell_type": "markdown",
   "id": "0e334560",
   "metadata": {},
   "source": [
    "# Addressing Multicollinearity (PCA)"
   ]
  },
  {
   "cell_type": "code",
   "execution_count": 9,
   "id": "abd1f5d6",
   "metadata": {},
   "outputs": [],
   "source": [
    "X = df[['amount', 'oldbalanceOrg', 'newbalanceOrig', 'oldbalanceDest', 'newbalanceDest']]\n",
    "scaler = StandardScaler()\n",
    "X_scaled = scaler.fit_transform(X)\n",
    "pca = PCA()\n",
    "X_pca = pca.fit_transform(X_scaled)\n",
    "explained_variance_ratio = pca.explained_variance_ratio_\n",
    "cumulative_variance_ratio = np.cumsum(explained_variance_ratio)\n",
    "num_components_to_keep = np.argmax(cumulative_variance_ratio >= 0.95) + 1\n",
    "X_final = X_pca[:, :num_components_to_keep]\n",
    "X_final_df = pd.DataFrame(X_final, columns=[f'PC{i+1}' for i in range(num_components_to_keep)])"
   ]
  },
  {
   "cell_type": "code",
   "execution_count": 10,
   "id": "00c79ccc",
   "metadata": {},
   "outputs": [
    {
     "data": {
      "text/html": [
       "<div>\n",
       "<style scoped>\n",
       "    .dataframe tbody tr th:only-of-type {\n",
       "        vertical-align: middle;\n",
       "    }\n",
       "\n",
       "    .dataframe tbody tr th {\n",
       "        vertical-align: top;\n",
       "    }\n",
       "\n",
       "    .dataframe thead th {\n",
       "        text-align: right;\n",
       "    }\n",
       "</style>\n",
       "<table border=\"1\" class=\"dataframe\">\n",
       "  <thead>\n",
       "    <tr style=\"text-align: right;\">\n",
       "      <th></th>\n",
       "      <th>PC1</th>\n",
       "      <th>PC2</th>\n",
       "      <th>PC3</th>\n",
       "    </tr>\n",
       "  </thead>\n",
       "  <tbody>\n",
       "    <tr>\n",
       "      <th>0</th>\n",
       "      <td>-0.717457</td>\n",
       "      <td>-0.132307</td>\n",
       "      <td>0.526179</td>\n",
       "    </tr>\n",
       "    <tr>\n",
       "      <th>1</th>\n",
       "      <td>-0.768745</td>\n",
       "      <td>-0.083147</td>\n",
       "      <td>0.565623</td>\n",
       "    </tr>\n",
       "    <tr>\n",
       "      <th>2</th>\n",
       "      <td>-0.776510</td>\n",
       "      <td>-0.076750</td>\n",
       "      <td>0.573945</td>\n",
       "    </tr>\n",
       "    <tr>\n",
       "      <th>3</th>\n",
       "      <td>-0.772835</td>\n",
       "      <td>-0.073991</td>\n",
       "      <td>0.575371</td>\n",
       "    </tr>\n",
       "    <tr>\n",
       "      <th>4</th>\n",
       "      <td>-0.753775</td>\n",
       "      <td>-0.081057</td>\n",
       "      <td>0.517186</td>\n",
       "    </tr>\n",
       "  </tbody>\n",
       "</table>\n",
       "</div>"
      ],
      "text/plain": [
       "        PC1       PC2       PC3\n",
       "0 -0.717457 -0.132307  0.526179\n",
       "1 -0.768745 -0.083147  0.565623\n",
       "2 -0.776510 -0.076750  0.573945\n",
       "3 -0.772835 -0.073991  0.575371\n",
       "4 -0.753775 -0.081057  0.517186"
      ]
     },
     "execution_count": 10,
     "metadata": {},
     "output_type": "execute_result"
    }
   ],
   "source": [
    "X_final_df.head()"
   ]
  },
  {
   "cell_type": "markdown",
   "id": "bfc27880",
   "metadata": {},
   "source": [
    "## Data Splitting"
   ]
  },
  {
   "cell_type": "code",
   "execution_count": 11,
   "id": "7479ea2e",
   "metadata": {},
   "outputs": [],
   "source": [
    "X_train, X_test, y_train, y_test = train_test_split(X_final_df, df['isFraud'], test_size=0.2, random_state=42)"
   ]
  },
  {
   "cell_type": "markdown",
   "id": "36d3c512",
   "metadata": {},
   "source": [
    "# EDA - Exploratory Data Analysis"
   ]
  },
  {
   "cell_type": "code",
   "execution_count": 12,
   "id": "9d4c5bef",
   "metadata": {},
   "outputs": [
    {
     "data": {
      "text/plain": [
       "0    6292749\n",
       "1       6244\n",
       "Name: isFraud, dtype: int64"
      ]
     },
     "execution_count": 12,
     "metadata": {},
     "output_type": "execute_result"
    }
   ],
   "source": [
    "df['isFraud'].value_counts()"
   ]
  },
  {
   "cell_type": "code",
   "execution_count": 13,
   "id": "94c1d498",
   "metadata": {},
   "outputs": [
    {
     "data": {
      "image/png": "[encoded data removed]",
      "text/plain": [
       "<Figure size 432x288 with 1 Axes>"
      ]
     },
     "metadata": {},
     "output_type": "display_data"
    }
   ],
   "source": [
    "import matplotlib.pyplot as plt\n",
    "plt.pie(df['isFraud'].value_counts(), labels=['notFraud','Fraud'], autopct='%0.2f'); # data is highly imbalnced"
   ]
  },
  {
   "cell_type": "markdown",
   "id": "a153b075",
   "metadata": {},
   "source": [
    "## Address Class Imbalance using Random Under-sampling and SMOTE"
   ]
  },
  {
   "cell_type": "code",
   "execution_count": 14,
   "id": "ee188acf",
   "metadata": {},
   "outputs": [],
   "source": [
    "from imblearn.over_sampling import SMOTE\n",
    "from imblearn.under_sampling import RandomUnderSampler"
   ]
  },
  {
   "cell_type": "code",
   "execution_count": 15,
   "id": "9626caed",
   "metadata": {},
   "outputs": [],
   "source": [
    "rus = RandomUnderSampler(sampling_strategy=0.5, random_state=42)\n",
    "X_resampled, y_resampled = rus.fit_resample(X_train, y_train)\n",
    "smote = SMOTE(sampling_strategy='auto', random_state=42)\n",
    "X_resampled, y_resampled = smote.fit_resample(X_resampled, y_resampled)"
   ]
  },
  {
   "cell_type": "markdown",
   "id": "1ca46539",
   "metadata": {},
   "source": [
    "## Model Training (Random Forest Classifier)"
   ]
  },
  {
   "cell_type": "code",
   "execution_count": 16,
   "id": "75c9bd6c",
   "metadata": {},
   "outputs": [],
   "source": [
    "from sklearn.ensemble import RandomForestClassifier"
   ]
  },
  {
   "cell_type": "code",
   "execution_count": 17,
   "id": "79cffa9f",
   "metadata": {},
   "outputs": [
    {
     "data": {
      "text/html": [
       "<style>#sk-container-id-1 {color: black;}#sk-container-id-1 pre{padding: 0;}#sk-container-id-1 div.sk-toggleable {background-color: white;}#sk-container-id-1 label.sk-toggleable__label {cursor: pointer;display: block;width: 100%;margin-bottom: 0;padding: 0.3em;box-sizing: border-box;text-align: center;}#sk-container-id-1 label.sk-toggleable__label-arrow:before {content: \"▸\";float: left;margin-right: 0.25em;color: #696969;}#sk-container-id-1 label.sk-toggleable__label-arrow:hover:before {color: black;}#sk-container-id-1 div.sk-estimator:hover label.sk-toggleable__label-arrow:before {color: black;}#sk-container-id-1 div.sk-toggleable__content {max-height: 0;max-width: 0;overflow: hidden;text-align: left;background-color: #f0f8ff;}#sk-container-id-1 div.sk-toggleable__content pre {margin: 0.2em;color: black;border-radius: 0.25em;background-color: #f0f8ff;}#sk-container-id-1 input.sk-toggleable__control:checked~div.sk-toggleable__content {max-height: 200px;max-width: 100%;overflow: auto;}#sk-container-id-1 input.sk-toggleable__control:checked~label.sk-toggleable__label-arrow:before {content: \"▾\";}#sk-container-id-1 div.sk-estimator input.sk-toggleable__control:checked~label.sk-toggleable__label {background-color: #d4ebff;}#sk-container-id-1 div.sk-label input.sk-toggleable__control:checked~label.sk-toggleable__label {background-color: #d4ebff;}#sk-container-id-1 input.sk-hidden--visually {border: 0;clip: rect(1px 1px 1px 1px);clip: rect(1px, 1px, 1px, 1px);height: 1px;margin: -1px;overflow: hidden;padding: 0;position: absolute;width: 1px;}#sk-container-id-1 div.sk-estimator {font-family: monospace;background-color: #f0f8ff;border: 1px dotted black;border-radius: 0.25em;box-sizing: border-box;margin-bottom: 0.5em;}#sk-container-id-1 div.sk-estimator:hover {background-color: #d4ebff;}#sk-container-id-1 div.sk-parallel-item::after {content: \"\";width: 100%;border-bottom: 1px solid gray;flex-grow: 1;}#sk-container-id-1 div.sk-label:hover label.sk-toggleable__label {background-color: #d4ebff;}#sk-container-id-1 div.sk-serial::before {content: \"\";position: absolute;border-left: 1px solid gray;box-sizing: border-box;top: 0;bottom: 0;left: 50%;z-index: 0;}#sk-container-id-1 div.sk-serial {display: flex;flex-direction: column;align-items: center;background-color: white;padding-right: 0.2em;padding-left: 0.2em;position: relative;}#sk-container-id-1 div.sk-item {position: relative;z-index: 1;}#sk-container-id-1 div.sk-parallel {display: flex;align-items: stretch;justify-content: center;background-color: white;position: relative;}#sk-container-id-1 div.sk-item::before, #sk-container-id-1 div.sk-parallel-item::before {content: \"\";position: absolute;border-left: 1px solid gray;box-sizing: border-box;top: 0;bottom: 0;left: 50%;z-index: -1;}#sk-container-id-1 div.sk-parallel-item {display: flex;flex-direction: column;z-index: 1;position: relative;background-color: white;}#sk-container-id-1 div.sk-parallel-item:first-child::after {align-self: flex-end;width: 50%;}#sk-container-id-1 div.sk-parallel-item:last-child::after {align-self: flex-start;width: 50%;}#sk-container-id-1 div.sk-parallel-item:only-child::after {width: 0;}#sk-container-id-1 div.sk-dashed-wrapped {border: 1px dashed gray;margin: 0 0.4em 0.5em 0.4em;box-sizing: border-box;padding-bottom: 0.4em;background-color: white;}#sk-container-id-1 div.sk-label label {font-family: monospace;font-weight: bold;display: inline-block;line-height: 1.2em;}#sk-container-id-1 div.sk-label-container {text-align: center;}#sk-container-id-1 div.sk-container {/* jupyter's `normalize.less` sets `[hidden] { display: none; }` but bootstrap.min.css set `[hidden] { display: none !important; }` so we also need the `!important` here to be able to override the default hidden behavior on the sphinx rendered scikit-learn.org. See: https://github.com/scikit-learn/scikit-learn/issues/21755 */display: inline-block !important;position: relative;}#sk-container-id-1 div.sk-text-repr-fallback {display: none;}</style><div id=\"sk-container-id-1\" class=\"sk-top-container\"><div class=\"sk-text-repr-fallback\"><pre>RandomForestClassifier(random_state=42)</pre><b>In a Jupyter environment, please rerun this cell to show the HTML representation or trust the notebook. <br />On GitHub, the HTML representation is unable to render, please try loading this page with nbviewer.org.</b></div><div class=\"sk-container\" hidden><div class=\"sk-item\"><div class=\"sk-estimator sk-toggleable\"><input class=\"sk-toggleable__control sk-hidden--visually\" id=\"sk-estimator-id-1\" type=\"checkbox\" checked><label for=\"sk-estimator-id-1\" class=\"sk-toggleable__label sk-toggleable__label-arrow\">RandomForestClassifier</label><div class=\"sk-toggleable__content\"><pre>RandomForestClassifier(random_state=42)</pre></div></div></div></div></div>"
      ],
      "text/plain": [
       "RandomForestClassifier(random_state=42)"
      ]
     },
     "execution_count": 17,
     "metadata": {},
     "output_type": "execute_result"
    }
   ],
   "source": [
    "model = RandomForestClassifier(n_estimators=100, random_state=42)\n",
    "model.fit(X_resampled, y_resampled)"
   ]
  },
  {
   "cell_type": "markdown",
   "id": "b835fa5c",
   "metadata": {},
   "source": [
    "## Make Predictions"
   ]
  },
  {
   "cell_type": "code",
   "execution_count": 18,
   "id": "72fb0f07",
   "metadata": {},
   "outputs": [],
   "source": [
    "y_pred = model.predict(X_test)"
   ]
  },
  {
   "cell_type": "markdown",
   "id": "e164cfcd",
   "metadata": {},
   "source": [
    "## Evaluate the Model"
   ]
  },
  {
   "cell_type": "code",
   "execution_count": 19,
   "id": "248a42f5",
   "metadata": {},
   "outputs": [
    {
     "name": "stdout",
     "output_type": "stream",
     "text": [
      "Classification Report:\n",
      "               precision    recall  f1-score   support\n",
      "\n",
      "           0       1.00      0.93      0.96   1258492\n",
      "           1       0.01      0.88      0.03      1307\n",
      "\n",
      "    accuracy                           0.93   1259799\n",
      "   macro avg       0.51      0.90      0.49   1259799\n",
      "weighted avg       1.00      0.93      0.96   1259799\n",
      "\n",
      "Confusion Matrix:\n",
      " [[1169198   89294]\n",
      " [    160    1147]]\n",
      "ROC AUC Score: 0.9033145384495235\n"
     ]
    }
   ],
   "source": [
    "print(\"Classification Report:\\n\", classification_report(y_test, y_pred))\n",
    "print(\"Confusion Matrix:\\n\", confusion_matrix(y_test, y_pred))\n",
    "print(\"ROC AUC Score:\", roc_auc_score(y_test, y_pred))"
   ]
  },
  {
   "cell_type": "markdown",
   "id": "5eae967f",
   "metadata": {},
   "source": [
    "# Questions"
   ]
  },
  {
   "cell_type": "markdown",
   "id": "d0d26be3",
   "metadata": {},
   "source": [
    "## 1. Data Cleaning including missing values, outliers, and multi-collinearity:"
   ]
  },
  {
   "cell_type": "markdown",
   "id": "24b53d73",
   "metadata": {},
   "source": [
    "* Missing Values: The given data has no missing values if so missing values could be handled by filling them with the median value of their respective columns and for non numerical column it could be filled by NaN or most frequent value depending on the dataset.\n",
    "* Outliers: We used the Elliptic Envelope method to detect and remove outliers from the 'amount' column.\n",
    "* Multi-collinearity: To address multi-collinearity, we used Principal Component Analysis (PCA) to reduce dimensionality and eliminate multicollinear features."
   ]
  },
  {
   "cell_type": "markdown",
   "id": "7adaea51",
   "metadata": {},
   "source": [
    "## 2. Fraud detection model in elaboration:"
   ]
  },
  {
   "cell_type": "markdown",
   "id": "284a58bd",
   "metadata": {},
   "source": [
    "* The fraud detection model implemented in the code uses a Random Forest Classifier, an ensemble learning method.\n",
    "\n",
    "* The code pre-processes the data, addresses class imbalance, and trains the Random Forest model on the pre-processed data.\n",
    "\n",
    "* Random Forest is a powerful algorithm for classification tasks, known for its ability to capture complex relationships in data and handle high-dimensional feature spaces."
   ]
  },
  {
   "cell_type": "markdown",
   "id": "9b5d54b3",
   "metadata": {},
   "source": [
    "## 3. Selecting variables to be included in the model?"
   ]
  },
  {
   "cell_type": "markdown",
   "id": "f3edc23d",
   "metadata": {},
   "source": [
    "* The code selects the following features to be included in the model: 'amount', 'oldbalanceOrg', 'newbalanceOrig', 'oldbalanceDest', and 'newbalanceDest'.\n",
    "\n",
    "* Feature selection is based on domain knowledge and the potential significance of these features in detecting fraudulent transactions. These features are commonly used in fraud detection models."
   ]
  },
  {
   "cell_type": "markdown",
   "id": "bc7199dc",
   "metadata": {},
   "source": [
    "## 4. Performance of the model by using the best set of tools:"
   ]
  },
  {
   "cell_type": "markdown",
   "id": "b00b8e5b",
   "metadata": {},
   "source": [
    "* The code evaluates the model's performance using a set of standard tools:\n",
    "* Classification Report: Provides detailed metrics such as precision, recall, F1-score, and support for both classes (fraudulent and non-fraudulent).\n",
    "* Confusion Matrix: Shows the true positives, true negatives, false positives, and false negatives.\n",
    "* ROC AUC Score: Measures the model's ability to distinguish between classes."
   ]
  },
  {
   "cell_type": "markdown",
   "id": "ff99965b",
   "metadata": {},
   "source": [
    "## 5. The key factors that predict fraudulent customer?"
   ]
  },
  {
   "cell_type": "markdown",
   "id": "d029fc51",
   "metadata": {},
   "source": [
    "* Based on the selected features ('amount', 'oldbalanceOrg', 'newbalanceOrig', 'oldbalanceDest', and 'newbalanceDest'), it suggests that unusual transaction amounts, account balances, and transaction destinations may be indicative of fraudulent activity."
   ]
  },
  {
   "cell_type": "markdown",
   "id": "defdd253",
   "metadata": {},
   "source": [
    "## 6. Do these factors make sense? "
   ]
  },
  {
   "cell_type": "markdown",
   "id": "2bbd89ba",
   "metadata": {},
   "source": [
    "* The factors selected in the code do make sense in the context of fraud detection:\n",
    "\n",
    "* Unusual transaction amounts: Fraudulent transactions often involve unusual or large amounts to divert funds.\n",
    "* Account balances: Suspicious activity can be flagged when account balances are inconsistent with typical customer behavior.\n",
    "* Transaction destinations: Detecting patterns of transactions to unusual destinations can help identify potential fraud.\n",
    "* However, the effectiveness of these factors depends on the specific characteristics of the dataset and the nature of fraud patterns. Domain expertise is essential for selecting relevant features."
   ]
  },
  {
   "cell_type": "markdown",
   "id": "b3e1e9d3",
   "metadata": {},
   "source": [
    "## 7. Prevention that should be adopted while the company updates its infrastructure?"
   ]
  },
  {
   "cell_type": "markdown",
   "id": "72481511",
   "metadata": {},
   "source": [
    "* While updating infrastructure, the company should consider the following prevention measures:\n",
    "* Ensure data integrity and security during the update process.\n",
    "* Implement real-time transaction monitoring for suspicious activities.\n",
    "* Continuously train staff on fraud prevention and detection.\n",
    "* Regularly update fraud detection models and algorithms to adapt to evolving fraud tactics.\n",
    "* Enhance authentication and authorization procedures to protect customer accounts.\n",
    "* Collaborate with cybersecurity experts to identify and mitigate potential vulnerabilities."
   ]
  },
  {
   "cell_type": "markdown",
   "id": "7a2bffdc",
   "metadata": {},
   "source": [
    "## 8. Assuming these actions have been implemented, how to determine if they work?"
   ]
  },
  {
   "cell_type": "markdown",
   "id": "968be583",
   "metadata": {},
   "source": [
    "* The effectiveness of these actions can be assessed through key performance indicators (KPIs) and monitoring:\n",
    "* Monitor the rate of detected fraudulent transactions over time.\n",
    "* Evaluate the reduction in false positives.\n",
    "* Analyze the time taken to detect and respond to fraud incidents.\n",
    "* Conduct regular assessments of model and system performance using relevant metrics.\n",
    "* Track customer feedback and complaints related to fraud.\n",
    "* Compare fraud-related financial losses before and after implementing preventive measures.\n",
    "* Regular audits and third-party assessments can provide independent validation of the effectiveness of prevention measures."
   ]
  }
 ],
 "metadata": {
  "kernelspec": {
   "display_name": "Python 3 (ipykernel)",
   "language": "python",
   "name": "python3"
  },
  "language_info": {
   "codemirror_mode": {
    "name": "ipython",
    "version": 3
   },
   "file_extension": ".py",
   "mimetype": "text/x-python",
   "name": "python",
   "nbconvert_exporter": "python",
   "pygments_lexer": "ipython3",
   "version": "3.9.0"
  }
 },
 "nbformat": 4,
 "nbformat_minor": 5
}
